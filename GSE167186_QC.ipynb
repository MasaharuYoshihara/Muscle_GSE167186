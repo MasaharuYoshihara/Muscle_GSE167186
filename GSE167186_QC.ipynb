{
 "cells": [
  {
   "cell_type": "code",
   "execution_count": 8,
   "id": "ee5b2c23-b577-4ab9-a52e-285eba48c873",
   "metadata": {
    "scrolled": true
   },
   "outputs": [
    {
     "ename": "ModuleNotFoundError",
     "evalue": "No module named 'scanpy'",
     "output_type": "error",
     "traceback": [
      "\u001b[1;31m---------------------------------------------------------------------------\u001b[0m",
      "\u001b[1;31mModuleNotFoundError\u001b[0m                       Traceback (most recent call last)",
      "Cell \u001b[1;32mIn[8], line 3\u001b[0m\n\u001b[0;32m      1\u001b[0m \u001b[38;5;28;01mimport\u001b[39;00m \u001b[38;5;21;01mnumpy\u001b[39;00m \u001b[38;5;28;01mas\u001b[39;00m \u001b[38;5;21;01mnp\u001b[39;00m\n\u001b[0;32m      2\u001b[0m \u001b[38;5;28;01mimport\u001b[39;00m \u001b[38;5;21;01mpandas\u001b[39;00m \u001b[38;5;28;01mas\u001b[39;00m \u001b[38;5;21;01mpd\u001b[39;00m\n\u001b[1;32m----> 3\u001b[0m \u001b[38;5;28;01mimport\u001b[39;00m \u001b[38;5;21;01mscanpy\u001b[39;00m \u001b[38;5;28;01mas\u001b[39;00m \u001b[38;5;21;01msc\u001b[39;00m\n\u001b[0;32m      4\u001b[0m \u001b[38;5;28;01mimport\u001b[39;00m \u001b[38;5;21;01mmatplotlib\u001b[39;00m\u001b[38;5;21;01m.\u001b[39;00m\u001b[38;5;21;01mpyplot\u001b[39;00m \u001b[38;5;28;01mas\u001b[39;00m \u001b[38;5;21;01mplt\u001b[39;00m\n\u001b[0;32m      6\u001b[0m get_ipython()\u001b[38;5;241m.\u001b[39mrun_line_magic(\u001b[38;5;124m'\u001b[39m\u001b[38;5;124mmatplotlib\u001b[39m\u001b[38;5;124m'\u001b[39m, \u001b[38;5;124m'\u001b[39m\u001b[38;5;124minline\u001b[39m\u001b[38;5;124m'\u001b[39m)\n",
      "\u001b[1;31mModuleNotFoundError\u001b[0m: No module named 'scanpy'"
     ]
    }
   ],
   "source": [
    "import numpy as np\n",
    "import pandas as pd\n",
    "import scanpy as sc\n",
    "import matplotlib.pyplot as plt\n",
    "\n",
    "%matplotlib inline"
   ]
  },
  {
   "cell_type": "code",
   "execution_count": 9,
   "id": "65c11941-8acd-4e13-9106-7fd58a39f07c",
   "metadata": {
    "tags": []
   },
   "outputs": [
    {
     "name": "stdout",
     "output_type": "stream",
     "text": [
      "Requirement already satisfied: scanpy in c:\\users\\ana_emb\\appdata\\roaming\\python\\python39\\site-packages (1.9.5)\n",
      "Requirement already satisfied: anndata>=0.7.4 in c:\\users\\ana_emb\\anaconda3\\envs\\cpdb\\lib\\site-packages (from scanpy) (0.10.2)\n",
      "Requirement already satisfied: numpy>=1.17.0 in c:\\users\\ana_emb\\anaconda3\\envs\\cpdb\\lib\\site-packages (from scanpy) (1.25.2)\n",
      "Requirement already satisfied: matplotlib>=3.4 in c:\\users\\ana_emb\\anaconda3\\envs\\cpdb\\lib\\site-packages (from scanpy) (3.8.0)\n",
      "Requirement already satisfied: pandas>=1.0 in c:\\users\\ana_emb\\anaconda3\\envs\\cpdb\\lib\\site-packages (from scanpy) (2.1.1)\n",
      "Requirement already satisfied: scipy>=1.4 in c:\\users\\ana_emb\\anaconda3\\envs\\cpdb\\lib\\site-packages (from scanpy) (1.11.3)\n",
      "Requirement already satisfied: seaborn in c:\\users\\ana_emb\\anaconda3\\envs\\cpdb\\lib\\site-packages (from scanpy) (0.13.0)\n",
      "Requirement already satisfied: h5py>=3 in c:\\users\\ana_emb\\anaconda3\\envs\\cpdb\\lib\\site-packages (from scanpy) (3.10.0)\n",
      "Requirement already satisfied: tqdm in c:\\users\\ana_emb\\anaconda3\\envs\\cpdb\\lib\\site-packages (from scanpy) (4.66.1)\n",
      "Requirement already satisfied: scikit-learn>=0.24 in c:\\users\\ana_emb\\anaconda3\\envs\\cpdb\\lib\\site-packages (from scanpy) (0.24.0)\n",
      "Requirement already satisfied: statsmodels>=0.10.0rc2 in c:\\users\\ana_emb\\anaconda3\\envs\\cpdb\\lib\\site-packages (from scanpy) (0.14.0)\n",
      "Requirement already satisfied: patsy in c:\\users\\ana_emb\\anaconda3\\envs\\cpdb\\lib\\site-packages (from scanpy) (0.5.3)\n",
      "Requirement already satisfied: networkx>=2.3 in c:\\users\\ana_emb\\appdata\\roaming\\python\\python39\\site-packages (from scanpy) (3.1)\n",
      "Requirement already satisfied: natsort in c:\\users\\ana_emb\\anaconda3\\envs\\cpdb\\lib\\site-packages (from scanpy) (8.4.0)\n",
      "Requirement already satisfied: joblib in c:\\users\\ana_emb\\anaconda3\\envs\\cpdb\\lib\\site-packages (from scanpy) (1.3.2)\n",
      "Requirement already satisfied: numba>=0.41.0 in c:\\users\\ana_emb\\appdata\\roaming\\python\\python39\\site-packages (from scanpy) (0.58.0)\n",
      "Requirement already satisfied: umap-learn>=0.3.10 in c:\\users\\ana_emb\\appdata\\roaming\\python\\python39\\site-packages (from scanpy) (0.5.4)\n",
      "Requirement already satisfied: packaging in c:\\users\\ana_emb\\anaconda3\\envs\\cpdb\\lib\\site-packages (from scanpy) (23.1)\n",
      "Requirement already satisfied: session-info in c:\\users\\ana_emb\\appdata\\roaming\\python\\python39\\site-packages (from scanpy) (1.0.0)\n",
      "Requirement already satisfied: array-api-compat in c:\\users\\ana_emb\\anaconda3\\envs\\cpdb\\lib\\site-packages (from anndata>=0.7.4->scanpy) (1.4)\n",
      "Requirement already satisfied: exceptiongroup in c:\\users\\ana_emb\\anaconda3\\envs\\cpdb\\lib\\site-packages (from anndata>=0.7.4->scanpy) (1.0.4)\n",
      "Requirement already satisfied: contourpy>=1.0.1 in c:\\users\\ana_emb\\anaconda3\\envs\\cpdb\\lib\\site-packages (from matplotlib>=3.4->scanpy) (1.1.1)\n",
      "Requirement already satisfied: cycler>=0.10 in c:\\users\\ana_emb\\anaconda3\\envs\\cpdb\\lib\\site-packages (from matplotlib>=3.4->scanpy) (0.12.1)\n",
      "Requirement already satisfied: fonttools>=4.22.0 in c:\\users\\ana_emb\\anaconda3\\envs\\cpdb\\lib\\site-packages (from matplotlib>=3.4->scanpy) (4.43.1)\n",
      "Requirement already satisfied: kiwisolver>=1.0.1 in c:\\users\\ana_emb\\anaconda3\\envs\\cpdb\\lib\\site-packages (from matplotlib>=3.4->scanpy) (1.4.5)\n",
      "Requirement already satisfied: pillow>=6.2.0 in c:\\users\\ana_emb\\anaconda3\\envs\\cpdb\\lib\\site-packages (from matplotlib>=3.4->scanpy) (10.0.1)\n",
      "Requirement already satisfied: pyparsing>=2.3.1 in c:\\users\\ana_emb\\anaconda3\\envs\\cpdb\\lib\\site-packages (from matplotlib>=3.4->scanpy) (3.1.1)\n",
      "Requirement already satisfied: python-dateutil>=2.7 in c:\\users\\ana_emb\\anaconda3\\envs\\cpdb\\lib\\site-packages (from matplotlib>=3.4->scanpy) (2.8.2)\n",
      "Requirement already satisfied: importlib-resources>=3.2.0 in c:\\users\\ana_emb\\anaconda3\\envs\\cpdb\\lib\\site-packages (from matplotlib>=3.4->scanpy) (6.1.0)\n",
      "Requirement already satisfied: llvmlite<0.42,>=0.41.0dev0 in c:\\users\\ana_emb\\appdata\\roaming\\python\\python39\\site-packages (from numba>=0.41.0->scanpy) (0.41.0)\n",
      "Requirement already satisfied: pytz>=2020.1 in c:\\users\\ana_emb\\anaconda3\\envs\\cpdb\\lib\\site-packages (from pandas>=1.0->scanpy) (2023.3.post1)\n",
      "Requirement already satisfied: tzdata>=2022.1 in c:\\users\\ana_emb\\anaconda3\\envs\\cpdb\\lib\\site-packages (from pandas>=1.0->scanpy) (2023.3)\n",
      "Requirement already satisfied: threadpoolctl>=2.0.0 in c:\\users\\ana_emb\\anaconda3\\envs\\cpdb\\lib\\site-packages (from scikit-learn>=0.24->scanpy) (3.2.0)\n",
      "Requirement already satisfied: six in c:\\users\\ana_emb\\anaconda3\\envs\\cpdb\\lib\\site-packages (from patsy->scanpy) (1.16.0)\n",
      "Requirement already satisfied: pynndescent>=0.5 in c:\\users\\ana_emb\\appdata\\roaming\\python\\python39\\site-packages (from umap-learn>=0.3.10->scanpy) (0.5.10)\n",
      "Requirement already satisfied: stdlib-list in c:\\users\\ana_emb\\anaconda3\\envs\\cpdb\\lib\\site-packages (from session-info->scanpy) (0.9.0)\n",
      "Requirement already satisfied: colorama in c:\\users\\ana_emb\\anaconda3\\envs\\cpdb\\lib\\site-packages (from tqdm->scanpy) (0.4.6)\n",
      "Requirement already satisfied: zipp>=3.1.0 in c:\\users\\ana_emb\\anaconda3\\envs\\cpdb\\lib\\site-packages (from importlib-resources>=3.2.0->matplotlib>=3.4->scanpy) (3.11.0)\n"
     ]
    }
   ],
   "source": [
    "! pip install --user scanpy"
   ]
  },
  {
   "cell_type": "code",
   "execution_count": null,
   "id": "e2b9e717-381f-4b8e-89eb-c5e0ff189052",
   "metadata": {},
   "outputs": [],
   "source": [
    "sc.settings.verbosity = 3           \n",
    "sc.logging.print_header()\n",
    "sc.settings.set_figure_params(dpi=80, facecolor='white')"
   ]
  },
  {
   "cell_type": "code",
   "execution_count": null,
   "id": "70c997e2-67ac-4d16-a99f-becf3fc23f56",
   "metadata": {},
   "outputs": [],
   "source": [
    "results_file = 'write/GSE167186_QC.h5ad'"
   ]
  },
  {
   "cell_type": "code",
   "execution_count": null,
   "id": "13a39025-d872-40e8-a977-476a75a2af0a",
   "metadata": {},
   "outputs": [],
   "source": [
    "adata_1 = sc.read_10x_h5('GSM5098737_HM1_filtered_feature_bc_matrix.h5')\n",
    "adata_2 = sc.read_10x_h5('GSM5098738_HM2_filtered_feature_bc_matrix.h5')\n",
    "adata_3 = sc.read_10x_h5('GSM5098739_HM3_filtered_feature_bc_matrix.h5')\n",
    "adata_4 = sc.read_10x_h5('GSM5098740_HM4_filtered_feature_bc_matrix.h5')\n",
    "adata_5 = sc.read_10x_h5('GSM5098741_HM5_filtered_feature_bc_matrix.h5')\n",
    "adata_6 = sc.read_10x_h5('GSM5098742_HM6_filtered_feature_bc_matrix.h5')\n",
    "adata_7 = sc.read_10x_h5('GSM5098743_HM7_filtered_feature_bc_matrix.h5')\n",
    "adata_8 = sc.read_10x_h5('GSM5098744_HM8_filtered_feature_bc_matrix.h5')\n",
    "adata_9 = sc.read_10x_h5('GSM5098745_HM9_filtered_feature_bc_matrix.h5')\n",
    "adata_10 = sc.read_10x_h5('GSM5098746_HM10_filtered_feature_bc_matrix.h5')\n",
    "adata_11 = sc.read_10x_h5('GSM5098747_HM11_filtered_feature_bc_matrix.h5')\n",
    "adata_12 = sc.read_10x_h5('GSM5098748_HM12_filtered_feature_bc_matrix.h5')\n",
    "adata_13 = sc.read_10x_h5('GSM5098749_HM13_filtered_feature_bc_matrix.h5')\n",
    "adata_15 = sc.read_10x_h5('GSM5098750_HM15_filtered_feature_bc_matrix.h5')\n",
    "adata_21 = sc.read_10x_h5('GSM5098751_HM21_filtered_feature_bc_matrix.h5')\n",
    "adata_22 = sc.read_10x_h5('GSM5098752_HM22_filtered_feature_bc_matrix.h5')\n",
    "adata_23 = sc.read_10x_h5('GSM5098753_HM23_filtered_feature_bc_matrix.h5')"
   ]
  },
  {
   "cell_type": "code",
   "execution_count": null,
   "id": "ecd769ce-9fb3-4c0e-82a3-3f5f17344a83",
   "metadata": {},
   "outputs": [],
   "source": [
    "adata_1.var_names_make_unique() \n",
    "adata_2.var_names_make_unique() \n",
    "adata_3.var_names_make_unique() \n",
    "adata_4.var_names_make_unique() \n",
    "adata_5.var_names_make_unique() \n",
    "adata_6.var_names_make_unique() \n",
    "adata_7.var_names_make_unique() \n",
    "adata_8.var_names_make_unique() \n",
    "adata_9.var_names_make_unique() \n",
    "adata_10.var_names_make_unique() \n",
    "adata_11.var_names_make_unique() \n",
    "adata_12.var_names_make_unique() \n",
    "adata_13.var_names_make_unique() \n",
    "adata_15.var_names_make_unique() \n",
    "adata_21.var_names_make_unique() \n",
    "adata_22.var_names_make_unique() \n",
    "adata_23.var_names_make_unique() "
   ]
  },
  {
   "cell_type": "code",
   "execution_count": null,
   "id": "e0f617c0-b716-4cee-abe4-7ec177069938",
   "metadata": {},
   "outputs": [],
   "source": [
    "young = adata_5\n",
    "\n",
    "young = young.concatenate(adata_8)\n",
    "young = young.concatenate(adata_10)\n",
    "young = young.concatenate(adata_13)\n",
    "young = young.concatenate(adata_21)\n",
    "young = young.concatenate(adata_22)\n",
    "\n",
    "young\n",
    "\n",
    "# AnnData object with n_obs × n_vars = 48263 × 33538\n",
    "#     obs: 'batch'\n",
    "#     var: 'gene_ids', 'feature_types', 'genome'"
   ]
  },
  {
   "cell_type": "code",
   "execution_count": null,
   "id": "8e6ed041-2e8a-41b8-bf4b-25beb35b103e",
   "metadata": {},
   "outputs": [],
   "source": [
    "old = adata_1\n",
    "\n",
    "old = old.concatenate(adata_2)\n",
    "old = old.concatenate(adata_3)\n",
    "old = old.concatenate(adata_4)\n",
    "old = old.concatenate(adata_6)\n",
    "old = old.concatenate(adata_7)\n",
    "old = old.concatenate(adata_9)\n",
    "old = old.concatenate(adata_11)\n",
    "old = old.concatenate(adata_12)\n",
    "old = old.concatenate(adata_15)\n",
    "old = old.concatenate(adata_23)\n",
    "\n",
    "old\n",
    "\n",
    "# AnnData object with n_obs × n_vars = 86223 × 33538\n",
    "#     obs: 'batch'\n",
    "#     var: 'gene_ids', 'feature_types', 'genome'"
   ]
  },
  {
   "cell_type": "code",
   "execution_count": null,
   "id": "07c15e0f-d7a2-4574-b8e8-5a302e904068",
   "metadata": {},
   "outputs": [],
   "source": [
    "adata = adata_1\n",
    "\n",
    "adata = adata.concatenate(adata_2)\n",
    "adata = adata.concatenate(adata_3)\n",
    "adata = adata.concatenate(adata_4)\n",
    "adata = adata.concatenate(adata_5)\n",
    "adata = adata.concatenate(adata_6)\n",
    "adata = adata.concatenate(adata_7)\n",
    "adata = adata.concatenate(adata_8)\n",
    "adata = adata.concatenate(adata_9)\n",
    "adata = adata.concatenate(adata_10)\n",
    "adata = adata.concatenate(adata_11)\n",
    "adata = adata.concatenate(adata_12)\n",
    "adata = adata.concatenate(adata_13)\n",
    "adata = adata.concatenate(adata_15)\n",
    "adata = adata.concatenate(adata_21)\n",
    "adata = adata.concatenate(adata_22)\n",
    "adata = adata.concatenate(adata_23)\n",
    "\n",
    "adata\n",
    "\n",
    "# AnnData object with n_obs × n_vars = 134486 × 33538\n",
    "#     obs: 'batch'\n",
    "#     var: 'gene_ids', 'feature_types', 'genome'"
   ]
  },
  {
   "cell_type": "code",
   "execution_count": null,
   "id": "d9ae3879-3e83-4605-86fe-6f8194f20cfc",
   "metadata": {
    "scrolled": true
   },
   "outputs": [],
   "source": [
    "sc.pl.highest_expr_genes(adata, n_top=20)"
   ]
  },
  {
   "cell_type": "code",
   "execution_count": null,
   "id": "d3995c08-f372-40c9-99cb-de3e3c7fb4a8",
   "metadata": {},
   "outputs": [],
   "source": [
    "sc.pp.filter_cells(adata, min_genes=200)\n",
    "sc.pp.filter_genes(adata, min_cells=3)\n",
    "\n",
    "# filtered out 78219 cells that have less than 200 genes expressed\n",
    "# filtered out 10277 genes that are detected in less than 3 cells"
   ]
  },
  {
   "cell_type": "code",
   "execution_count": null,
   "id": "f4e337fb-4bef-4428-8f68-9c181959aea4",
   "metadata": {},
   "outputs": [],
   "source": [
    "adata.var['mt'] = adata.var_names.str.startswith('MT-') \n",
    "sc.pp.calculate_qc_metrics(adata, qc_vars=['mt'], percent_top=None, log1p=False, inplace=True)"
   ]
  },
  {
   "cell_type": "code",
   "execution_count": null,
   "id": "b6f849f7-47e4-436f-a3f4-fc257bb82831",
   "metadata": {},
   "outputs": [],
   "source": [
    "sc.pl.scatter(adata, x='total_counts', y='pct_counts_mt')\n",
    "sc.pl.scatter(adata, x='total_counts', y='n_genes_by_counts')"
   ]
  },
  {
   "cell_type": "code",
   "execution_count": null,
   "id": "7c749b6d-c4e3-4a00-b99c-885b4760c047",
   "metadata": {},
   "outputs": [],
   "source": [
    "adata = adata[adata.obs.n_genes_by_counts < 3500, :]\n",
    "adata = adata[adata.obs.pct_counts_mt < 10, :]"
   ]
  },
  {
   "cell_type": "code",
   "execution_count": null,
   "id": "48598eca-51c7-40bf-a229-d30296096178",
   "metadata": {},
   "outputs": [],
   "source": [
    "sc.pp.normalize_total(adata, target_sum=1e4)"
   ]
  },
  {
   "cell_type": "code",
   "execution_count": null,
   "id": "71bd97f8-c4eb-44a5-a578-58fb0c998281",
   "metadata": {},
   "outputs": [],
   "source": [
    "sc.pp.log1p(adata)"
   ]
  },
  {
   "cell_type": "code",
   "execution_count": null,
   "id": "6f506b30-ba38-4c5e-8bcc-29090faa87b5",
   "metadata": {},
   "outputs": [],
   "source": [
    "sc.pp.highly_variable_genes(adata, min_mean=0.0125, max_mean=3, min_disp=0.5)"
   ]
  },
  {
   "cell_type": "code",
   "execution_count": null,
   "id": "030bcebe-8330-468a-b729-9008c019ce06",
   "metadata": {},
   "outputs": [],
   "source": [
    "adata.raw = adata"
   ]
  },
  {
   "cell_type": "code",
   "execution_count": null,
   "id": "5c49356a-5c9f-480a-b3fa-929728f424e4",
   "metadata": {},
   "outputs": [],
   "source": [
    "adata = adata[:, adata.var.highly_variable]"
   ]
  },
  {
   "cell_type": "code",
   "execution_count": null,
   "id": "0e81ab8a-7fff-4cfa-a994-b81d9434f67e",
   "metadata": {},
   "outputs": [],
   "source": [
    "sc.pp.regress_out(adata, ['total_counts', 'pct_counts_mt'])"
   ]
  },
  {
   "cell_type": "code",
   "execution_count": null,
   "id": "b8976769-4b14-4229-8614-d3a2584b7e1c",
   "metadata": {},
   "outputs": [],
   "source": [
    "sc.pp.scale(adata, max_value=10)"
   ]
  },
  {
   "cell_type": "code",
   "execution_count": null,
   "id": "174acfb3-4ba7-483c-b674-de4dd7c538cc",
   "metadata": {},
   "outputs": [],
   "source": [
    "sc.tl.pca(adata, svd_solver='arpack')"
   ]
  },
  {
   "cell_type": "code",
   "execution_count": null,
   "id": "b17d2ed0-b14b-4f85-97ff-ef21716daa33",
   "metadata": {},
   "outputs": [],
   "source": [
    "sc.pl.pca_variance_ratio(adata, log=True)"
   ]
  },
  {
   "cell_type": "code",
   "execution_count": null,
   "id": "4a7bd35f-69db-4e04-86dc-359e7eb207ec",
   "metadata": {},
   "outputs": [],
   "source": [
    "adata.write(results_file)"
   ]
  },
  {
   "cell_type": "code",
   "execution_count": null,
   "id": "a1aad3dd-785c-4d2a-ad2e-2441801532f4",
   "metadata": {},
   "outputs": [],
   "source": [
    "adata\n",
    "\n",
    "# AnnData object with n_obs × n_vars = 56049 × 2724\n",
    "#     obs: 'batch', 'n_genes', 'n_genes_by_counts', 'total_counts', 'total_counts_mt', 'pct_counts_mt'\n",
    "#     var: 'gene_ids', 'feature_types', 'genome', 'n_cells', 'mt', 'n_cells_by_counts', 'mean_counts', 'pct_dropout_by_counts', 'total_counts', 'highly_variable', 'means', 'dispersions', 'dispersions_norm', 'mean', 'std'\n",
    "#     uns: 'log1p', 'hvg', 'pca'\n",
    "#     obsm: 'X_pca'\n",
    "#     varm: 'PCs'"
   ]
  },
  {
   "cell_type": "code",
   "execution_count": null,
   "id": "bded68dd-8552-4e0f-98d7-a8b50764c3f7",
   "metadata": {},
   "outputs": [],
   "source": [
    "sc.pp.neighbors(adata, n_neighbors=10, n_pcs=30)"
   ]
  },
  {
   "cell_type": "code",
   "execution_count": null,
   "id": "7dab92b9-5840-411b-a506-6a86b17eba19",
   "metadata": {},
   "outputs": [],
   "source": [
    "sc.tl.umap(adata)"
   ]
  },
  {
   "cell_type": "code",
   "execution_count": null,
   "id": "d5593faf-d2f1-4d46-96a6-8b606b1b77ab",
   "metadata": {},
   "outputs": [],
   "source": [
    "sc.tl.leiden(adata)\n",
    "\n",
    "# found 19 clusters and added"
   ]
  },
  {
   "cell_type": "code",
   "execution_count": null,
   "id": "667cfa02-2e98-4692-a611-cf98473ff536",
   "metadata": {},
   "outputs": [],
   "source": [
    "sc.tl.rank_genes_groups(adata, 'leiden', method='t-test')\n",
    "sc.pl.rank_genes_groups(adata, n_genes=25, sharey=False)"
   ]
  },
  {
   "cell_type": "code",
   "execution_count": null,
   "id": "92b2aa43-6b26-4c10-9f6b-f5ec92a70e74",
   "metadata": {},
   "outputs": [],
   "source": [
    "adata.write(results_file)"
   ]
  },
  {
   "cell_type": "code",
   "execution_count": null,
   "id": "47d3d7d3-a9dd-4dde-9b32-662df9529a31",
   "metadata": {},
   "outputs": [],
   "source": []
  },
  {
   "cell_type": "code",
   "execution_count": null,
   "id": "d31656f2-54b0-4e7b-8a28-48c033ea7cc5",
   "metadata": {},
   "outputs": [],
   "source": []
  }
 ],
 "metadata": {
  "kernelspec": {
   "display_name": "Python 3 (ipykernel)",
   "language": "python",
   "name": "python3"
  },
  "language_info": {
   "codemirror_mode": {
    "name": "ipython",
    "version": 3
   },
   "file_extension": ".py",
   "mimetype": "text/x-python",
   "name": "python",
   "nbconvert_exporter": "python",
   "pygments_lexer": "ipython3",
   "version": "3.9.18"
  }
 },
 "nbformat": 4,
 "nbformat_minor": 5
}
